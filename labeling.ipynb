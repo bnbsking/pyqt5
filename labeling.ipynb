{
 "cells": [
  {
   "cell_type": "code",
   "execution_count": 1,
   "metadata": {},
   "outputs": [],
   "source": [
    "import datetime\n",
    "from matplotlib.backends.backend_qt5agg import FigureCanvasQTAgg as FigureCanvas\n",
    "from matplotlib.figure import Figure\n",
    "import numpy as np\n",
    "import os, sys\n",
    "from PyQt5.QtWidgets import QApplication, QMainWindow, QPushButton, QLabel, QLineEdit\n",
    "from PyQt5.QtCore import QTimer"
   ]
  },
  {
   "cell_type": "code",
   "execution_count": 2,
   "metadata": {},
   "outputs": [],
   "source": [
    "L, page = [], 1\n",
    "\n",
    "class App(QMainWindow):\n",
    "    def __init__(self):\n",
    "        super().__init__()\n",
    "        self.loadnpy()\n",
    "        self.initUI()\n",
    "        self.show()\n",
    "    def loadnpy(self):\n",
    "        global L\n",
    "        for data in os.listdir():\n",
    "            if data[:3] == \"raw\": \n",
    "                npy = data\n",
    "        L = np.load(npy, allow_pickle=True)\n",
    "        L = (L-L.mean())/L.std()\n",
    "        self.max_data, self.max_page = len(L), int(np.ceil(len(L)//200))\n",
    "    def initUI(self):\n",
    "        global page\n",
    "        self.setWindowTitle('Select vibration signal')\n",
    "        self.setGeometry(100, 200, 1440, 500)\n",
    "        \n",
    "        obj = PlotCanvas(self, width=15, height=4)\n",
    "        self.timer = QTimer(obj)\n",
    "        self.timer.timeout.connect(obj.plotc)\n",
    "        self.FRAME_PER_SECOND = 10\n",
    "        self.timer.start(1000/self.FRAME_PER_SECOND)\n",
    "        \n",
    "        self.button_prev = QPushButton(self)\n",
    "        self.button_prev.setText(\"prev page\")\n",
    "        self.button_prev.move(100, 425)\n",
    "        self.button_prev.resize(100, 50)\n",
    "        self.button_prev.clicked.connect(self.detect_prev)\n",
    "        \n",
    "        self.label_page = QLabel(self)\n",
    "        self.label_page.setText(\"page={}/{}\\ntotal data={}\".format(page, \\\n",
    "            self.max_page, self.max_data))\n",
    "        self.label_page.move(250, 400)\n",
    "        self.label_page.resize(150, 100)\n",
    "        \n",
    "        self.button_next = QPushButton(self)\n",
    "        self.button_next.setText(\"next page\")\n",
    "        self.button_next.move(400, 425)\n",
    "        self.button_next.resize(100, 50)\n",
    "        self.button_next.clicked.connect(self.detect_next)\n",
    "        \n",
    "        self.label_start = QLabel(self)\n",
    "        self.label_start.setText(\"start =\")\n",
    "        self.label_start.move(545, 410)\n",
    "        self.label_start.resize(100, 30)\n",
    "        self.label_end = QLabel(self)\n",
    "        self.label_end.setText(\"end   =\")\n",
    "        self.label_end.move(545, 465)\n",
    "        self.label_end.resize(100, 30)\n",
    "        \n",
    "        self.line_start = QLineEdit(self)\n",
    "        self.line_start.move(600, 410)\n",
    "        self.line_start.resize(400, 30)\n",
    "        self.line_end = QLineEdit(self)\n",
    "        self.line_end.move(600, 465)\n",
    "        self.line_end.resize(400, 30)\n",
    "        \n",
    "        self.button_save = QPushButton(self)\n",
    "        self.button_save.setText(\"save\")\n",
    "        self.button_save.move(1010, 425)\n",
    "        self.button_save.resize(100, 50)\n",
    "        self.button_save.clicked.connect(self.save)\n",
    "        \n",
    "    def detect_prev(self):\n",
    "        global page, L\n",
    "        if page>1:\n",
    "            page-=1\n",
    "            self.label_page.setText(\"page={}/{}\\ntotal data={}\".format(page, \\\n",
    "                self.max_page, self.max_data))\n",
    "            \n",
    "    def detect_next(self):\n",
    "        global page, L\n",
    "        if page<np.ceil(len(L)//200):\n",
    "            page+=1\n",
    "            self.label_page.setText(\"page={}/{}\\ntotal data={}\".format(page, \\\n",
    "                self.max_page, self.max_data)) \n",
    "            \n",
    "    def save(self):\n",
    "        start, end = self.line_start.text(), self.line_end.text()\n",
    "        cut = [start.split(\" \"), end.split(\" \")]\n",
    "        np.save('cut_{}.npy'.format(datetime.datetime.now().strftime(\"%m_%d_%H_%M_%S\")), cut)\n",
    "        \n",
    "class PlotCanvas(FigureCanvas):\n",
    "    def __init__(self, parent=None, width=15, height=4, dpi=100):\n",
    "        super().__init__( Figure(figsize=(width, height), dpi=dpi) )\n",
    "        self.setParent(parent)\n",
    "        self.plotc()\n",
    "        \n",
    "    def plotc(self):\n",
    "        global L, page\n",
    "        fig = self.figure.add_subplot(1,1,1)\n",
    "        fig.clear()\n",
    "        if len(L)>200:\n",
    "            if page==np.ceil(len(L)//200):\n",
    "                fig.plot(np.arange(200*(page-1), 200*(page-1)+len(L[200*(page-1):])),\\\n",
    "                    L[200*(page-1):], 'r-')\n",
    "            else:\n",
    "                fig.plot(np.arange(200*(page-1),200*page), L[200*(page-1):200*page], 'r-')\n",
    "        else:\n",
    "            fig.plot(L, 'r-')\n",
    "        fig.set_ylim(-2,2)\n",
    "        fig.set_title('Vibration')\n",
    "        fig.axes.grid(True)\n",
    "        self.draw()"
   ]
  },
  {
   "cell_type": "code",
   "execution_count": 3,
   "metadata": {},
   "outputs": [
    {
     "name": "stderr",
     "output_type": "stream",
     "text": [
      "C:\\Users\\MH630\\Anaconda3\\envs\\tensorflow\\lib\\site-packages\\ipykernel_launcher.py:95: MatplotlibDeprecationWarning: Adding an axes using the same arguments as a previous axes currently reuses the earlier instance.  In a future version, a new instance will always be created and returned.  Meanwhile, this warning can be suppressed, and the future behavior ensured, by passing a unique label to each axes instance.\n"
     ]
    },
    {
     "ename": "SystemExit",
     "evalue": "0",
     "output_type": "error",
     "traceback": [
      "An exception has occurred, use %tb to see the full traceback.\n",
      "\u001b[1;31mSystemExit\u001b[0m\u001b[1;31m:\u001b[0m 0\n"
     ]
    },
    {
     "name": "stderr",
     "output_type": "stream",
     "text": [
      "C:\\Users\\MH630\\Anaconda3\\envs\\tensorflow\\lib\\site-packages\\IPython\\core\\interactiveshell.py:3327: UserWarning: To exit: use 'exit', 'quit', or Ctrl-D.\n",
      "  warn(\"To exit: use 'exit', 'quit', or Ctrl-D.\", stacklevel=1)\n"
     ]
    }
   ],
   "source": [
    "if __name__ == '__main__':\n",
    "    app = QApplication(sys.argv)\n",
    "    ex = App()\n",
    "    sys.exit(app.exec_())"
   ]
  },
  {
   "cell_type": "code",
   "execution_count": null,
   "metadata": {},
   "outputs": [],
   "source": [
    "\"\"\"\n",
    "L = np.load(\"raw_05_11_15_53_11.npy\", allow_pickle=True)\n",
    "L = np.atleast_1d(L)\n",
    "L = L[0]['array']\n",
    "np.save(\"raw_05_11_15_53_11x.npy\", L)\"\"\""
   ]
  },
  {
   "cell_type": "code",
   "execution_count": null,
   "metadata": {},
   "outputs": [],
   "source": [
    "s = \"123   345   \"\n",
    "s.split(\" \")"
   ]
  },
  {
   "cell_type": "code",
   "execution_count": 5,
   "metadata": {},
   "outputs": [
    {
     "data": {
      "text/plain": [
       "array([['50', '200'],\n",
       "       ['185', '350']], dtype='<U3')"
      ]
     },
     "execution_count": 5,
     "metadata": {},
     "output_type": "execute_result"
    }
   ],
   "source": [
    "os.listdir()\n",
    "np.load(\"cut_05_12_10_30_02.npy\", allow_pickle=True)"
   ]
  },
  {
   "cell_type": "code",
   "execution_count": null,
   "metadata": {},
   "outputs": [],
   "source": []
  }
 ],
 "metadata": {
  "kernelspec": {
   "display_name": "Python 3",
   "language": "python",
   "name": "python3"
  },
  "language_info": {
   "codemirror_mode": {
    "name": "ipython",
    "version": 3
   },
   "file_extension": ".py",
   "mimetype": "text/x-python",
   "name": "python",
   "nbconvert_exporter": "python",
   "pygments_lexer": "ipython3",
   "version": "3.7.5"
  }
 },
 "nbformat": 4,
 "nbformat_minor": 2
}
