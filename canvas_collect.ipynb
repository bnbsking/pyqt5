{
 "cells": [
  {
   "cell_type": "code",
   "execution_count": 1,
   "metadata": {},
   "outputs": [],
   "source": [
    "import sys, datetime\n",
    "import numpy as np\n",
    "from PyQt5.QtWidgets import QApplication, QMainWindow, QPushButton, QLabel\n",
    "from PyQt5.QtCore import QTimer\n",
    "\n",
    "from matplotlib.backends.backend_qt5agg import FigureCanvasQTAgg as FigureCanvas\n",
    "from matplotlib.figure import Figure\n",
    "\n",
    "#FigureCanvas, Figure 嵌入pyqt5之matplotlib套件\n",
    "    #因嵌入matplotlib, 不使用排版而直接使用pixel定位, PushButton要多self參數\n",
    "#QTimer(class) 回傳一個timer物件\n",
    "    #.timer.timeout.connect(func) class中之func多一個thread\n",
    "    #.timer.start(1000/fps) 多久更新一次畫面\n",
    "#QMainWindow 如同Widget\n",
    "    #.button.clicked.connect 也是多一個thread"
   ]
  },
  {
   "cell_type": "code",
   "execution_count": 2,
   "metadata": {},
   "outputs": [],
   "source": [
    "flag = False\n",
    "L = []\n",
    "\n",
    "class App(QMainWindow):\n",
    "    def __init__(self):\n",
    "        super().__init__()\n",
    "        self.initUI()\n",
    "        self.show()\n",
    "    def initUI(self):\n",
    "        self.setWindowTitle('Vibration signal')\n",
    "        self.setGeometry(100, 200, 1640, 400)\n",
    "        # canvas thread\n",
    "        obj = PlotCanvas(self, width=15, height=4)\n",
    "        self.timer = QTimer(obj)\n",
    "        self.timer.timeout.connect(obj.plotc)\n",
    "        self.FRAME_PER_SECOND = 1\n",
    "        self.timer.start(1000/self.FRAME_PER_SECOND)\n",
    "        # collect button thread\n",
    "        self.button = QPushButton(self)\n",
    "        self.button.setText(\"collect data\")\n",
    "        self.button.move(1500,0)\n",
    "        self.button.resize(160,100)\n",
    "        self.button.clicked.connect(self.detect)\n",
    "        \n",
    "        self.label = QLabel(self)\n",
    "        self.label.setText(\"Data is not collected\")\n",
    "        self.label.move(1500,100)\n",
    "        self.label.resize(160,100)\n",
    "        # save button thread\n",
    "        self.button2 = QPushButton(self)\n",
    "        self.button2.setText(\"save data \\n and clear collected\")\n",
    "        self.button2.move(1500,200)\n",
    "        self.button2.resize(160,100)\n",
    "        self.button2.clicked.connect(self.save)\n",
    "    \n",
    "    def detect(self):\n",
    "        global flag\n",
    "        if not flag:\n",
    "            self.label.setText(\"Data is collected\")\n",
    "            flag=True\n",
    "        else:\n",
    "            self.label.setText(\"Data is not collected\")\n",
    "            flag=False\n",
    "    def save(self):\n",
    "        np.save('vib_{}.npy'.format(datetime.datetime.now().strftime(\"%m_%d_%H_%M_%S\")), \\\n",
    "               np.array(L))\n",
    "        \n",
    "class PlotCanvas(FigureCanvas):\n",
    "    def __init__(self, parent=None, width=15, height=4, dpi=100):\n",
    "        super().__init__( Figure(figsize=(width, height), dpi=dpi) )\n",
    "        self.setParent(parent)\n",
    "        self.data = [0 for i in range(25)]\n",
    "    def plotc(self):\n",
    "        global flag\n",
    "        new = data_collect()\n",
    "        self.data = self.data[1:] + [new]\n",
    "        fig = self.figure.add_subplot(111)\n",
    "        fig.clear()\n",
    "        fig.plot(self.data, 'r-')\n",
    "        fig.set_ylim(-2,2)\n",
    "        fig.set_title('Vibration')\n",
    "        self.draw()\n",
    "        if flag:\n",
    "            L.append(new)       \n",
    "\n",
    "def data_collect():\n",
    "    return np.random.randn()"
   ]
  },
  {
   "cell_type": "code",
   "execution_count": 3,
   "metadata": {},
   "outputs": [
    {
     "name": "stderr",
     "output_type": "stream",
     "text": [
      "C:\\Users\\MH630\\Anaconda3\\envs\\tensorflow\\lib\\site-packages\\ipykernel_launcher.py:57: MatplotlibDeprecationWarning: Adding an axes using the same arguments as a previous axes currently reuses the earlier instance.  In a future version, a new instance will always be created and returned.  Meanwhile, this warning can be suppressed, and the future behavior ensured, by passing a unique label to each axes instance.\n"
     ]
    },
    {
     "ename": "SystemExit",
     "evalue": "0",
     "output_type": "error",
     "traceback": [
      "An exception has occurred, use %tb to see the full traceback.\n",
      "\u001b[1;31mSystemExit\u001b[0m\u001b[1;31m:\u001b[0m 0\n"
     ]
    },
    {
     "name": "stderr",
     "output_type": "stream",
     "text": [
      "C:\\Users\\MH630\\Anaconda3\\envs\\tensorflow\\lib\\site-packages\\IPython\\core\\interactiveshell.py:3327: UserWarning: To exit: use 'exit', 'quit', or Ctrl-D.\n",
      "  warn(\"To exit: use 'exit', 'quit', or Ctrl-D.\", stacklevel=1)\n"
     ]
    }
   ],
   "source": [
    "if __name__ == '__main__':\n",
    "    app = QApplication(sys.argv)\n",
    "    ex = App()\n",
    "    sys.exit(app.exec_())"
   ]
  },
  {
   "cell_type": "code",
   "execution_count": null,
   "metadata": {},
   "outputs": [],
   "source": []
  },
  {
   "cell_type": "code",
   "execution_count": null,
   "metadata": {},
   "outputs": [],
   "source": []
  }
 ],
 "metadata": {
  "kernelspec": {
   "display_name": "Python 3",
   "language": "python",
   "name": "python3"
  },
  "language_info": {
   "codemirror_mode": {
    "name": "ipython",
    "version": 3
   },
   "file_extension": ".py",
   "mimetype": "text/x-python",
   "name": "python",
   "nbconvert_exporter": "python",
   "pygments_lexer": "ipython3",
   "version": "3.7.5"
  }
 },
 "nbformat": 4,
 "nbformat_minor": 2
}
