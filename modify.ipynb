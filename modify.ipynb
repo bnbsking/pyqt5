{
 "cells": [
  {
   "cell_type": "code",
   "execution_count": 1,
   "metadata": {},
   "outputs": [],
   "source": [
    "from matplotlib.backends.backend_qt5agg import FigureCanvasQTAgg as FigureCanvas\n",
    "from matplotlib.figure import Figure\n",
    "import numpy as np\n",
    "import os, sys\n",
    "from PyQt5.QtWidgets import QApplication, QMainWindow, QPushButton, QLabel\n",
    "from PyQt5.QtCore import QTimer"
   ]
  },
  {
   "cell_type": "code",
   "execution_count": 2,
   "metadata": {},
   "outputs": [],
   "source": [
    "L = []\n",
    "page = 1\n",
    "\n",
    "class App(QMainWindow):\n",
    "    def __init__(self):\n",
    "        super().__init__()\n",
    "        self.loadnpy()\n",
    "        self.initUI()\n",
    "        self.show()\n",
    "    def loadnpy(self):\n",
    "        global L\n",
    "        for data in os.listdir():\n",
    "            if data[:3] == \"raw\": \n",
    "                npy = data\n",
    "        L = np.load(npy, allow_pickle=True)\n",
    "        L = np.concatenate((L, np.array([np.random.randn() for i in range(1000)])))\n",
    "        print(len(L))\n",
    "    def initUI(self):\n",
    "        global page\n",
    "        self.setWindowTitle('Select vibration signal')\n",
    "        self.setGeometry(100, 200, 1440, 500)\n",
    "        \n",
    "        obj = PlotCanvas(self, width=15, height=4)\n",
    "        self.timer = QTimer(obj)\n",
    "        self.timer.timeout.connect(obj.plotc)\n",
    "        self.FRAME_PER_SECOND = 10\n",
    "        self.timer.start(1000/self.FRAME_PER_SECOND)\n",
    "        \n",
    "        self.button = QPushButton(self)\n",
    "        self.button.setText(\"prev page\")\n",
    "        self.button.move(500, 400)\n",
    "        self.button.resize(100, 100)\n",
    "        self.button.clicked.connect(self.detect_prev)\n",
    "        \n",
    "        self.label = QLabel(self)\n",
    "        self.label.setText(\"page={}\".format(page))\n",
    "        self.label.move(620, 400)\n",
    "        self.label.resize(100, 100)\n",
    "        \n",
    "        self.button2 = QPushButton(self)\n",
    "        self.button2.setText(\"next page\")\n",
    "        self.button2.move(700, 400)\n",
    "        self.button2.resize(100, 100)\n",
    "        self.button2.clicked.connect(self.detect_next)\n",
    "        \n",
    "        \"\"\"\n",
    "        self.button.setText(\"collect data\")\n",
    "        self.button.move(1500,0)\n",
    "        self.button.resize(160,100)\n",
    "        self.button.clicked.connect(self.detect)\n",
    "        \n",
    "        self.label = QLabel(self)\n",
    "        self.label.setText(\"Data is not collected\")\n",
    "        self.label.move(1500,100)\n",
    "        self.label.resize(160,100)\n",
    "        # save button thread\n",
    "        self.button2 = QPushButton(self)\n",
    "        self.button2.setText(\"save data \\n and clear collected\")\n",
    "        self.button2.move(1500,200)\n",
    "        self.button2.resize(160,100)\n",
    "        self.button2.clicked.connect(self.save)\n",
    "    def save(self):\n",
    "        np.save('vib_{}.npy'.format(datetime.datetime.now().strftime(\"%m_%d_%H_%M_%S\")), \\\n",
    "               np.array(L))\n",
    "        L = []\"\"\"\n",
    "        \n",
    "    def detect_prev(self):\n",
    "        global page, L\n",
    "        if page>1:\n",
    "            page-=1\n",
    "            self.label.setText(\"page={}\".format(page))\n",
    "            \n",
    "    def detect_next(self):\n",
    "        global page, L\n",
    "        if page<len(L)//200+1:\n",
    "            page+=1\n",
    "            self.label.setText(\"page={}\".format(page))\n",
    "        \n",
    "class PlotCanvas(FigureCanvas):\n",
    "    def __init__(self, parent=None, width=15, height=4, dpi=100):\n",
    "        super().__init__( Figure(figsize=(width, height), dpi=dpi) )\n",
    "        self.setParent(parent)\n",
    "        self.plotc()\n",
    "    def plotc(self):\n",
    "        global L, page\n",
    "        fig = self.figure.add_subplot(1,1,1)\n",
    "        fig.clear()\n",
    "        if len(L)>200:\n",
    "            if page==len(L)//200+1:\n",
    "                fig.plot(np.arange(200*(page-1), 200*(page-1)+len(L[200*(page-1):])),\\\n",
    "                    L[200*(page-1):], 'r-')\n",
    "            else:\n",
    "                fig.plot(np.arange(200*(page-1),200*page), L[200*(page-1):200*page], 'r-')\n",
    "        else:\n",
    "            fig.plot(L, 'r-')\n",
    "        fig.set_ylim(-2,2)\n",
    "        fig.set_title('Vibration')\n",
    "        fig.axes.grid(True)\n",
    "        self.draw()     \n",
    "\n",
    "def data_collect():\n",
    "    return np.random.randn()"
   ]
  },
  {
   "cell_type": "code",
   "execution_count": 3,
   "metadata": {},
   "outputs": [
    {
     "name": "stdout",
     "output_type": "stream",
     "text": [
      "1040\n"
     ]
    },
    {
     "name": "stderr",
     "output_type": "stream",
     "text": [
      "C:\\Users\\MH630\\Anaconda3\\envs\\tensorflow\\lib\\site-packages\\ipykernel_launcher.py:86: MatplotlibDeprecationWarning: Adding an axes using the same arguments as a previous axes currently reuses the earlier instance.  In a future version, a new instance will always be created and returned.  Meanwhile, this warning can be suppressed, and the future behavior ensured, by passing a unique label to each axes instance.\n"
     ]
    },
    {
     "ename": "SystemExit",
     "evalue": "0",
     "output_type": "error",
     "traceback": [
      "An exception has occurred, use %tb to see the full traceback.\n",
      "\u001b[1;31mSystemExit\u001b[0m\u001b[1;31m:\u001b[0m 0\n"
     ]
    },
    {
     "name": "stderr",
     "output_type": "stream",
     "text": [
      "C:\\Users\\MH630\\Anaconda3\\envs\\tensorflow\\lib\\site-packages\\IPython\\core\\interactiveshell.py:3327: UserWarning: To exit: use 'exit', 'quit', or Ctrl-D.\n",
      "  warn(\"To exit: use 'exit', 'quit', or Ctrl-D.\", stacklevel=1)\n"
     ]
    }
   ],
   "source": [
    "if __name__ == '__main__':\n",
    "    app = QApplication(sys.argv)\n",
    "    ex = App()\n",
    "    sys.exit(app.exec_())"
   ]
  },
  {
   "cell_type": "code",
   "execution_count": null,
   "metadata": {},
   "outputs": [],
   "source": [
    "\"\"\"\n",
    "self.timer = QTimer(obj)\n",
    "        self.timer.timeout.connect(obj.plotc)\n",
    "        self.FRAME_PER_SECOND = 1\n",
    "        self.timer.start(1000/self.FRAME_PER_SECOND)\n",
    "\"\"\""
   ]
  },
  {
   "cell_type": "code",
   "execution_count": null,
   "metadata": {},
   "outputs": [],
   "source": [
    "s = \"happy\"\n",
    "s[:2]==\"ha\""
   ]
  },
  {
   "cell_type": "code",
   "execution_count": null,
   "metadata": {},
   "outputs": [],
   "source": []
  }
 ],
 "metadata": {
  "kernelspec": {
   "display_name": "Python 3",
   "language": "python",
   "name": "python3"
  },
  "language_info": {
   "codemirror_mode": {
    "name": "ipython",
    "version": 3
   },
   "file_extension": ".py",
   "mimetype": "text/x-python",
   "name": "python",
   "nbconvert_exporter": "python",
   "pygments_lexer": "ipython3",
   "version": "3.7.5"
  }
 },
 "nbformat": 4,
 "nbformat_minor": 2
}
